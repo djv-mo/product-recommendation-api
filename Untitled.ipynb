{
 "cells": [
  {
   "cell_type": "code",
   "execution_count": 1,
   "id": "86c9971c-1911-4d68-80ea-7700fbd4809d",
   "metadata": {
    "tags": []
   },
   "outputs": [
    {
     "ename": "NameError",
     "evalue": "name 'pd' is not defined",
     "output_type": "error",
     "traceback": [
      "\u001b[0;31m---------------------------------------------------------------------------\u001b[0m",
      "\u001b[0;31mNameError\u001b[0m                                 Traceback (most recent call last)",
      "Cell \u001b[0;32mIn[1], line 1\u001b[0m\n\u001b[0;32m----> 1\u001b[0m df \u001b[38;5;241m=\u001b[39m \u001b[43mpd\u001b[49m\u001b[38;5;241m.\u001b[39mread_csv(\u001b[38;5;124m'\u001b[39m\u001b[38;5;124m/input/test_ver2.csv\u001b[39m\u001b[38;5;124m'\u001b[39m, nrows\u001b[38;5;241m=\u001b[39m\u001b[38;5;241m1\u001b[39m)\n",
      "\u001b[0;31mNameError\u001b[0m: name 'pd' is not defined"
     ]
    }
   ],
   "source": [
    "df = pd.read_csv('/input/test_ver2.csv', nrows=1)"
   ]
  },
  {
   "cell_type": "code",
   "execution_count": 3,
   "id": "e4c4ae04-1dd6-4b0a-bc46-41500008e424",
   "metadata": {
    "tags": []
   },
   "outputs": [],
   "source": [
    "import pandas as pd"
   ]
  },
  {
   "cell_type": "code",
   "execution_count": 5,
   "id": "98e1f784-de93-4208-9354-894cd1413d68",
   "metadata": {
    "tags": []
   },
   "outputs": [],
   "source": [
    "df = pd.read_csv('input/test_ver2.csv', nrows=1)"
   ]
  },
  {
   "cell_type": "code",
   "execution_count": 6,
   "id": "d8bf09cc-fc0c-4079-b242-2c9b486802d0",
   "metadata": {
    "tags": []
   },
   "outputs": [
    {
     "name": "stdout",
     "output_type": "stream",
     "text": [
      "fecha_dato object\n",
      "ncodpers int64\n",
      "ind_empleado object\n",
      "pais_residencia object\n",
      "sexo object\n",
      "age int64\n",
      "fecha_alta object\n",
      "ind_nuevo int64\n",
      "antiguedad int64\n",
      "indrel int64\n",
      "ult_fec_cli_1t float64\n",
      "indrel_1mes int64\n",
      "tiprel_1mes object\n",
      "indresi object\n",
      "indext object\n",
      "conyuemp object\n",
      "canal_entrada object\n",
      "indfall object\n",
      "tipodom int64\n",
      "cod_prov int64\n",
      "nomprov object\n",
      "ind_actividad_cliente int64\n",
      "renta float64\n",
      "segmento object\n"
     ]
    }
   ],
   "source": [
    "for name, dtype in df.dtypes.items():\n",
    "    print(name, dtype)\n"
   ]
  },
  {
   "cell_type": "code",
   "execution_count": null,
   "id": "ce01d4f1-8444-44ea-a5f4-9893d4d3606d",
   "metadata": {},
   "outputs": [],
   "source": []
  }
 ],
 "metadata": {
  "kernelspec": {
   "display_name": "Python 3 (ipykernel)",
   "language": "python",
   "name": "python3"
  },
  "language_info": {
   "codemirror_mode": {
    "name": "ipython",
    "version": 3
   },
   "file_extension": ".py",
   "mimetype": "text/x-python",
   "name": "python",
   "nbconvert_exporter": "python",
   "pygments_lexer": "ipython3",
   "version": "3.10.6"
  }
 },
 "nbformat": 4,
 "nbformat_minor": 5
}
